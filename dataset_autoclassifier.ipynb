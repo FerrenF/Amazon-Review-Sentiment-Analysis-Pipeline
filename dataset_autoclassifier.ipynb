{
  "cells": [
    {
      "cell_type": "code",
      "execution_count": null,
      "id": "initial_id",
      "metadata": {
        "collapsed": true,
        "id": "initial_id"
      },
      "outputs": [],
      "source": [
        "from transformers import AutoTokenizer, AutoModelForSequenceClassification\n",
        "import torch\n",
        "import json\n",
        "import pandas as pd\n",
        "\n",
        "model_name = \"tabularisai/multilingual-sentiment-analysis\"\n",
        "tokenizer = AutoTokenizer.from_pretrained(model_name)\n",
        "model = AutoModelForSequenceClassification.from_pretrained(model_name)\n",
        "\n",
        "def predict_sentiment(texts):\n",
        "    inputs = tokenizer(texts, return_tensors=\"pt\", truncation=True, padding=True, max_length=512)\n",
        "    with torch.no_grad():\n",
        "        outputs = model(**inputs)\n",
        "    return torch.argmax(outputs.logits, dim=-1).tolist()\n",
        "\n",
        "# Load input JSONL file\n",
        "input_path = \"./merged_output.jsonl\"\n",
        "df = pd.read_json(input_path, lines=True)\n",
        "\n",
        "# Predict and add label column\n",
        "df[\"label\"] = predict_sentiment(df[\"text\"].tolist())\n",
        "\n",
        "# Save to new JSONL file\n",
        "output_path = \"./labelled_output.jsonl\"\n",
        "df.to_json(output_path, orient=\"records\", lines=True, force_ascii=False)\n",
        "\n",
        "print(f\"Labeled dataset saved to {output_path}\")"
      ]
    }
  ],
  "metadata": {
    "kernelspec": {
      "display_name": "Python 3",
      "language": "python",
      "name": "python3"
    },
    "language_info": {
      "codemirror_mode": {
        "name": "ipython",
        "version": 2
      },
      "file_extension": ".py",
      "mimetype": "text/x-python",
      "name": "python",
      "nbconvert_exporter": "python",
      "pygments_lexer": "ipython2",
      "version": "2.7.6"
    },
    "colab": {
      "provenance": []
    }
  },
  "nbformat": 4,
  "nbformat_minor": 5
}