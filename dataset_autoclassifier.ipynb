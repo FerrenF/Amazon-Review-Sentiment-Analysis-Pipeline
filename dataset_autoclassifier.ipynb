{
 "cells": [
  {
   "cell_type": "code",
   "execution_count": null,
   "id": "initial_id",
   "metadata": {
    "collapsed": true
   },
   "outputs": [],
   "source": [
    "from transformers import AutoTokenizer, AutoModelForSequenceClassification\n",
    "import torch\n",
    "import pandas as pd\n",
    "from tqdm import tqdm\n",
    "\n",
    "# Load model and tokenizer\n",
    "model_name = \"tabularisai/multilingual-sentiment-analysis\"\n",
    "tokenizer = AutoTokenizer.from_pretrained(model_name)\n",
    "model = AutoModelForSequenceClassification.from_pretrained(model_name)\n",
    "\n",
    "# Use GPU if available\n",
    "device = torch.device(\"cuda\" if torch.cuda.is_available() else \"cpu\")\n",
    "model.to(device)\n",
    "\n",
    "# Batched prediction function with tqdm\n",
    "def predict_sentiment(texts, batch_size=32):\n",
    "    all_preds = []\n",
    "    for i in tqdm(range(0, len(texts), batch_size), desc=\"Predicting Sentiment\"):\n",
    "        batch_texts = texts[i:i + batch_size]\n",
    "        inputs = tokenizer(batch_texts, return_tensors=\"pt\", truncation=True, padding=True, max_length=512)\n",
    "        inputs = {k: v.to(device) for k, v in inputs.items()}\n",
    "        with torch.no_grad():\n",
    "            outputs = model(**inputs)\n",
    "        preds = torch.argmax(outputs.logits, dim=-1).tolist()\n",
    "        all_preds.extend(preds)\n",
    "    return all_preds\n",
    "\n",
    "# Load input JSONL file\n",
    "input_path = \"/content/merged_output.jsonl\"\n",
    "df = pd.read_json(input_path, lines=True)\n",
    "\n",
    "# Predict and add label column\n",
    "df[\"label\"] = predict_sentiment(df[\"text\"].tolist())\n",
    "\n",
    "# Save to new JSONL file\n",
    "output_path = \"/content/labelled_output.jsonl\"\n",
    "df.to_json(output_path, orient=\"records\", lines=True, force_ascii=False)\n",
    "\n",
    "print(f\"\\nLabeled dataset saved to {output_path}\")"
   ]
  }
 ],
 "metadata": {
  "kernelspec": {
   "display_name": "Python 3",
   "language": "python",
   "name": "python3"
  },
  "language_info": {
   "codemirror_mode": {
    "name": "ipython",
    "version": 2
   },
   "file_extension": ".py",
   "mimetype": "text/x-python",
   "name": "python",
   "nbconvert_exporter": "python",
   "pygments_lexer": "ipython2",
   "version": "2.7.6"
  }
 },
 "nbformat": 4,
 "nbformat_minor": 5
}
